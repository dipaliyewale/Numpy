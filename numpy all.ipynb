{
 "cells": [
  {
   "cell_type": "markdown",
   "id": "5bcd5a60",
   "metadata": {},
   "source": [
    "# Numpy lec 1\n"
   ]
  },
  {
   "cell_type": "code",
   "execution_count": 1,
   "id": "d75b11b8",
   "metadata": {},
   "outputs": [],
   "source": [
    "L=[1,2,3,4,5,6]*2"
   ]
  },
  {
   "cell_type": "code",
   "execution_count": 2,
   "id": "1c47bd3e",
   "metadata": {},
   "outputs": [
    {
     "data": {
      "text/plain": [
       "[1, 2, 3, 4, 5, 6, 1, 2, 3, 4, 5, 6]"
      ]
     },
     "execution_count": 2,
     "metadata": {},
     "output_type": "execute_result"
    }
   ],
   "source": [
    "L"
   ]
  },
  {
   "cell_type": "markdown",
   "id": "cc4216a8",
   "metadata": {},
   "source": [
    "Installing Numpy"
   ]
  },
  {
   "cell_type": "code",
   "execution_count": 3,
   "id": "68c3b7c4",
   "metadata": {},
   "outputs": [
    {
     "name": "stdout",
     "output_type": "stream",
     "text": [
      "Requirement already satisfied: numpy in d:\\new folder\\new folder\\anaconda\\lib\\site-packages (1.21.5)\n"
     ]
    }
   ],
   "source": [
    "!pip install numpy"
   ]
  },
  {
   "cell_type": "markdown",
   "id": "e4a8c9c4",
   "metadata": {},
   "source": [
    "Importing numpy Library"
   ]
  },
  {
   "cell_type": "code",
   "execution_count": 4,
   "id": "32ac66f2",
   "metadata": {},
   "outputs": [],
   "source": [
    "import numpy as np"
   ]
  },
  {
   "cell_type": "code",
   "execution_count": 5,
   "id": "0394574d",
   "metadata": {},
   "outputs": [
    {
     "data": {
      "text/plain": [
       "[1, 2, 3, 4, 5, 6, 1, 2, 3, 4, 5, 6]"
      ]
     },
     "execution_count": 5,
     "metadata": {},
     "output_type": "execute_result"
    }
   ],
   "source": [
    "L"
   ]
  },
  {
   "cell_type": "markdown",
   "id": "9c0deed5",
   "metadata": {},
   "source": [
    "To convert into array use np.array"
   ]
  },
  {
   "cell_type": "code",
   "execution_count": 6,
   "id": "928851b9",
   "metadata": {},
   "outputs": [],
   "source": [
    "a=np.array(L)"
   ]
  },
  {
   "cell_type": "code",
   "execution_count": 7,
   "id": "fbc703fe",
   "metadata": {},
   "outputs": [
    {
     "data": {
      "text/plain": [
       "array([1, 2, 3, 4, 5, 6, 1, 2, 3, 4, 5, 6])"
      ]
     },
     "execution_count": 7,
     "metadata": {},
     "output_type": "execute_result"
    }
   ],
   "source": [
    "a"
   ]
  },
  {
   "cell_type": "markdown",
   "id": "9e076a81",
   "metadata": {},
   "source": [
    "Check type"
   ]
  },
  {
   "cell_type": "code",
   "execution_count": 8,
   "id": "ca7db686",
   "metadata": {},
   "outputs": [
    {
     "data": {
      "text/plain": [
       "numpy.ndarray"
      ]
     },
     "execution_count": 8,
     "metadata": {},
     "output_type": "execute_result"
    }
   ],
   "source": [
    "type(a)"
   ]
  },
  {
   "cell_type": "markdown",
   "id": "5d56fb7a",
   "metadata": {},
   "source": [
    "Check dimension use"
   ]
  },
  {
   "cell_type": "code",
   "execution_count": 9,
   "id": "50e1263b",
   "metadata": {},
   "outputs": [
    {
     "data": {
      "text/plain": [
       "1"
      ]
     },
     "execution_count": 9,
     "metadata": {},
     "output_type": "execute_result"
    }
   ],
   "source": [
    "a.ndim"
   ]
  },
  {
   "cell_type": "code",
   "execution_count": 10,
   "id": "44d8009f",
   "metadata": {},
   "outputs": [
    {
     "data": {
      "text/plain": [
       "(12,)"
      ]
     },
     "execution_count": 10,
     "metadata": {},
     "output_type": "execute_result"
    }
   ],
   "source": [
    "a.shape"
   ]
  },
  {
   "cell_type": "code",
   "execution_count": 16,
   "id": "d9ae9a44",
   "metadata": {},
   "outputs": [],
   "source": [
    "a1=np.array([[1,2,3],\n",
    "             [4,5,6]])"
   ]
  },
  {
   "cell_type": "code",
   "execution_count": 17,
   "id": "8060ecc9",
   "metadata": {},
   "outputs": [
    {
     "data": {
      "text/plain": [
       "2"
      ]
     },
     "execution_count": 17,
     "metadata": {},
     "output_type": "execute_result"
    }
   ],
   "source": [
    "a1.ndim"
   ]
  },
  {
   "cell_type": "code",
   "execution_count": 18,
   "id": "c8ecaad2",
   "metadata": {},
   "outputs": [
    {
     "data": {
      "text/plain": [
       "(2, 3)"
      ]
     },
     "execution_count": 18,
     "metadata": {},
     "output_type": "execute_result"
    }
   ],
   "source": [
    "a1.shape"
   ]
  },
  {
   "cell_type": "code",
   "execution_count": 19,
   "id": "5d16ac8d",
   "metadata": {},
   "outputs": [
    {
     "data": {
      "text/plain": [
       "numpy.ndarray"
      ]
     },
     "execution_count": 19,
     "metadata": {},
     "output_type": "execute_result"
    }
   ],
   "source": [
    "type(a1)"
   ]
  },
  {
   "cell_type": "code",
   "execution_count": 20,
   "id": "48049872",
   "metadata": {},
   "outputs": [],
   "source": [
    "a2=np.array([[[1,2,3],\n",
    "             [4,5,6],\n",
    "              [7,8,9]]])"
   ]
  },
  {
   "cell_type": "code",
   "execution_count": 21,
   "id": "1d2b189c",
   "metadata": {},
   "outputs": [
    {
     "data": {
      "text/plain": [
       "numpy.ndarray"
      ]
     },
     "execution_count": 21,
     "metadata": {},
     "output_type": "execute_result"
    }
   ],
   "source": [
    "type(a2)"
   ]
  },
  {
   "cell_type": "code",
   "execution_count": 23,
   "id": "7b287884",
   "metadata": {},
   "outputs": [
    {
     "data": {
      "text/plain": [
       "3"
      ]
     },
     "execution_count": 23,
     "metadata": {},
     "output_type": "execute_result"
    }
   ],
   "source": [
    "a2.ndim"
   ]
  },
  {
   "cell_type": "code",
   "execution_count": 25,
   "id": "2163e34e",
   "metadata": {},
   "outputs": [],
   "source": [
    "addition=[0,0,0,0]\n",
    "multiplication=[1,1,1,1]"
   ]
  },
  {
   "cell_type": "code",
   "execution_count": 27,
   "id": "90d43282",
   "metadata": {},
   "outputs": [
    {
     "data": {
      "text/plain": [
       "array([1., 1., 1., 1.])"
      ]
     },
     "execution_count": 27,
     "metadata": {},
     "output_type": "execute_result"
    }
   ],
   "source": [
    "a=np.ones(4)\n",
    "a"
   ]
  },
  {
   "cell_type": "code",
   "execution_count": 28,
   "id": "853d09cd",
   "metadata": {},
   "outputs": [
    {
     "data": {
      "text/plain": [
       "dtype('float64')"
      ]
     },
     "execution_count": 28,
     "metadata": {},
     "output_type": "execute_result"
    }
   ],
   "source": [
    "a.dtype"
   ]
  },
  {
   "cell_type": "code",
   "execution_count": 29,
   "id": "1a2c80eb",
   "metadata": {},
   "outputs": [],
   "source": [
    "b=np.zeros(5)"
   ]
  },
  {
   "cell_type": "code",
   "execution_count": 30,
   "id": "f42bf0a2",
   "metadata": {},
   "outputs": [
    {
     "data": {
      "text/plain": [
       "array([0., 0., 0., 0., 0.])"
      ]
     },
     "execution_count": 30,
     "metadata": {},
     "output_type": "execute_result"
    }
   ],
   "source": [
    "b"
   ]
  },
  {
   "cell_type": "code",
   "execution_count": 31,
   "id": "76015b88",
   "metadata": {},
   "outputs": [],
   "source": [
    "a1=np.ones(5,dtype=int)"
   ]
  },
  {
   "cell_type": "code",
   "execution_count": 32,
   "id": "bb9adbb2",
   "metadata": {},
   "outputs": [
    {
     "data": {
      "text/plain": [
       "array([1, 1, 1, 1, 1])"
      ]
     },
     "execution_count": 32,
     "metadata": {},
     "output_type": "execute_result"
    }
   ],
   "source": [
    "a1"
   ]
  },
  {
   "cell_type": "code",
   "execution_count": 33,
   "id": "876714e3",
   "metadata": {},
   "outputs": [
    {
     "data": {
      "text/plain": [
       "dtype('int32')"
      ]
     },
     "execution_count": 33,
     "metadata": {},
     "output_type": "execute_result"
    }
   ],
   "source": [
    "a1.dtype"
   ]
  },
  {
   "cell_type": "code",
   "execution_count": 39,
   "id": "37564bd2",
   "metadata": {},
   "outputs": [],
   "source": [
    "a=np.ones((2,3),dtype=int)"
   ]
  },
  {
   "cell_type": "code",
   "execution_count": 40,
   "id": "30226402",
   "metadata": {},
   "outputs": [
    {
     "data": {
      "text/plain": [
       "array([[1, 1, 1],\n",
       "       [1, 1, 1]])"
      ]
     },
     "execution_count": 40,
     "metadata": {},
     "output_type": "execute_result"
    }
   ],
   "source": [
    "a"
   ]
  },
  {
   "cell_type": "code",
   "execution_count": 45,
   "id": "8abca95b",
   "metadata": {},
   "outputs": [],
   "source": [
    "a=np.ones((2,3,3),dtype=int)"
   ]
  },
  {
   "cell_type": "code",
   "execution_count": 46,
   "id": "db5e2ce0",
   "metadata": {},
   "outputs": [
    {
     "data": {
      "text/plain": [
       "array([[[1, 1, 1],\n",
       "        [1, 1, 1],\n",
       "        [1, 1, 1]],\n",
       "\n",
       "       [[1, 1, 1],\n",
       "        [1, 1, 1],\n",
       "        [1, 1, 1]]])"
      ]
     },
     "execution_count": 46,
     "metadata": {},
     "output_type": "execute_result"
    }
   ],
   "source": [
    "a"
   ]
  },
  {
   "cell_type": "code",
   "execution_count": 47,
   "id": "975b0821",
   "metadata": {},
   "outputs": [],
   "source": [
    "a=np.ones(5,dtype=bool)"
   ]
  },
  {
   "cell_type": "code",
   "execution_count": 48,
   "id": "be134845",
   "metadata": {},
   "outputs": [
    {
     "data": {
      "text/plain": [
       "array([ True,  True,  True,  True,  True])"
      ]
     },
     "execution_count": 48,
     "metadata": {},
     "output_type": "execute_result"
    }
   ],
   "source": [
    "a\n"
   ]
  },
  {
   "cell_type": "code",
   "execution_count": 49,
   "id": "0222c37a",
   "metadata": {},
   "outputs": [],
   "source": [
    "a=np.zeros(5,dtype=bool)"
   ]
  },
  {
   "cell_type": "code",
   "execution_count": 50,
   "id": "2dcfc0dc",
   "metadata": {},
   "outputs": [
    {
     "data": {
      "text/plain": [
       "array([False, False, False, False, False])"
      ]
     },
     "execution_count": 50,
     "metadata": {},
     "output_type": "execute_result"
    }
   ],
   "source": [
    "a"
   ]
  },
  {
   "cell_type": "code",
   "execution_count": 52,
   "id": "fc2e6f6a",
   "metadata": {},
   "outputs": [
    {
     "data": {
      "text/plain": [
       "array([ 1,  2,  3,  4,  5,  6,  7,  8,  9, 10])"
      ]
     },
     "execution_count": 52,
     "metadata": {},
     "output_type": "execute_result"
    }
   ],
   "source": [
    "a=np.array([1,2,3,4,5,6,7,8,9,10])\n",
    "a"
   ]
  },
  {
   "cell_type": "code",
   "execution_count": 53,
   "id": "69b0dbd7",
   "metadata": {},
   "outputs": [
    {
     "data": {
      "text/plain": [
       "1"
      ]
     },
     "execution_count": 53,
     "metadata": {},
     "output_type": "execute_result"
    }
   ],
   "source": [
    "a.ndim"
   ]
  },
  {
   "cell_type": "code",
   "execution_count": 54,
   "id": "30f64a20",
   "metadata": {},
   "outputs": [
    {
     "data": {
      "text/plain": [
       "array([ 1,  2,  3,  4,  5,  6,  7,  8,  9, 10, 11, 12, 13, 14])"
      ]
     },
     "execution_count": 54,
     "metadata": {},
     "output_type": "execute_result"
    }
   ],
   "source": [
    "np.arange(1,15)"
   ]
  },
  {
   "cell_type": "code",
   "execution_count": 56,
   "id": "ed5e7833",
   "metadata": {},
   "outputs": [
    {
     "data": {
      "text/plain": [
       "array([  1,   7,  13,  19,  25,  31,  37,  43,  49,  55,  61,  67,  73,\n",
       "        79,  85,  91,  97, 103, 109, 115, 121, 127, 133, 139, 145, 151,\n",
       "       157, 163, 169, 175, 181, 187, 193, 199])"
      ]
     },
     "execution_count": 56,
     "metadata": {},
     "output_type": "execute_result"
    }
   ],
   "source": [
    "np.arange(1,200,6)"
   ]
  },
  {
   "cell_type": "code",
   "execution_count": 57,
   "id": "ce738e48",
   "metadata": {},
   "outputs": [
    {
     "data": {
      "text/plain": [
       "array([ 1.        ,  1.64705882,  2.29411765,  2.94117647,  3.58823529,\n",
       "        4.23529412,  4.88235294,  5.52941176,  6.17647059,  6.82352941,\n",
       "        7.47058824,  8.11764706,  8.76470588,  9.41176471, 10.05882353,\n",
       "       10.70588235, 11.35294118, 12.        ])"
      ]
     },
     "execution_count": 57,
     "metadata": {},
     "output_type": "execute_result"
    }
   ],
   "source": [
    "np.linspace(1,12,18)"
   ]
  },
  {
   "cell_type": "code",
   "execution_count": 67,
   "id": "9f1f3a0e",
   "metadata": {},
   "outputs": [],
   "source": [
    "a4=np.arange(1,17)"
   ]
  },
  {
   "cell_type": "code",
   "execution_count": 68,
   "id": "39210ed6",
   "metadata": {},
   "outputs": [
    {
     "data": {
      "text/plain": [
       "array([ 1,  2,  3,  4,  5,  6,  7,  8,  9, 10, 11, 12, 13, 14, 15, 16])"
      ]
     },
     "execution_count": 68,
     "metadata": {},
     "output_type": "execute_result"
    }
   ],
   "source": [
    "a4"
   ]
  },
  {
   "cell_type": "code",
   "execution_count": 69,
   "id": "ffe1ce57",
   "metadata": {},
   "outputs": [
    {
     "data": {
      "text/plain": [
       "16"
      ]
     },
     "execution_count": 69,
     "metadata": {},
     "output_type": "execute_result"
    }
   ],
   "source": [
    "len(a4)"
   ]
  },
  {
   "cell_type": "code",
   "execution_count": 70,
   "id": "f2997a44",
   "metadata": {},
   "outputs": [
    {
     "data": {
      "text/plain": [
       "array([[ 1,  2,  3,  4],\n",
       "       [ 5,  6,  7,  8],\n",
       "       [ 9, 10, 11, 12],\n",
       "       [13, 14, 15, 16]])"
      ]
     },
     "execution_count": 70,
     "metadata": {},
     "output_type": "execute_result"
    }
   ],
   "source": [
    "a4.reshape(4,4)"
   ]
  },
  {
   "cell_type": "code",
   "execution_count": 71,
   "id": "56b357cb",
   "metadata": {},
   "outputs": [
    {
     "data": {
      "text/plain": [
       "1"
      ]
     },
     "execution_count": 71,
     "metadata": {},
     "output_type": "execute_result"
    }
   ],
   "source": [
    "a4.ndim"
   ]
  },
  {
   "cell_type": "code",
   "execution_count": 72,
   "id": "be6d7447",
   "metadata": {},
   "outputs": [
    {
     "data": {
      "text/plain": [
       "array([0, 0, 0, 0, 0, 0])"
      ]
     },
     "execution_count": 72,
     "metadata": {},
     "output_type": "execute_result"
    }
   ],
   "source": [
    "np.zeros(6,dtype=int)"
   ]
  },
  {
   "cell_type": "code",
   "execution_count": 73,
   "id": "c8b9cffc",
   "metadata": {},
   "outputs": [],
   "source": [
    "c=np.zeros((2,3))"
   ]
  },
  {
   "cell_type": "code",
   "execution_count": 74,
   "id": "dae4ebe7",
   "metadata": {},
   "outputs": [
    {
     "data": {
      "text/plain": [
       "array([[0., 0., 0.],\n",
       "       [0., 0., 0.]])"
      ]
     },
     "execution_count": 74,
     "metadata": {},
     "output_type": "execute_result"
    }
   ],
   "source": [
    "c"
   ]
  },
  {
   "cell_type": "code",
   "execution_count": 77,
   "id": "53666576",
   "metadata": {},
   "outputs": [],
   "source": [
    "c=np.zeros((2,3,2),dtype=int)"
   ]
  },
  {
   "cell_type": "code",
   "execution_count": 78,
   "id": "3b3c3d80",
   "metadata": {},
   "outputs": [
    {
     "data": {
      "text/plain": [
       "array([[[0, 0],\n",
       "        [0, 0],\n",
       "        [0, 0]],\n",
       "\n",
       "       [[0, 0],\n",
       "        [0, 0],\n",
       "        [0, 0]]])"
      ]
     },
     "execution_count": 78,
     "metadata": {},
     "output_type": "execute_result"
    }
   ],
   "source": [
    "c"
   ]
  },
  {
   "cell_type": "markdown",
   "id": "111d902b",
   "metadata": {},
   "source": [
    "# Numpy Lec2"
   ]
  },
  {
   "cell_type": "code",
   "execution_count": 80,
   "id": "44086c77",
   "metadata": {},
   "outputs": [],
   "source": [
    "b=np.arange(1,25).reshape(6,4)"
   ]
  },
  {
   "cell_type": "code",
   "execution_count": 81,
   "id": "11199656",
   "metadata": {},
   "outputs": [
    {
     "data": {
      "text/plain": [
       "array([[ 1,  2,  3,  4],\n",
       "       [ 5,  6,  7,  8],\n",
       "       [ 9, 10, 11, 12],\n",
       "       [13, 14, 15, 16],\n",
       "       [17, 18, 19, 20],\n",
       "       [21, 22, 23, 24]])"
      ]
     },
     "execution_count": 81,
     "metadata": {},
     "output_type": "execute_result"
    }
   ],
   "source": [
    "b"
   ]
  },
  {
   "cell_type": "code",
   "execution_count": 82,
   "id": "6e15a96c",
   "metadata": {},
   "outputs": [
    {
     "data": {
      "text/plain": [
       "2"
      ]
     },
     "execution_count": 82,
     "metadata": {},
     "output_type": "execute_result"
    }
   ],
   "source": [
    "b.ndim"
   ]
  },
  {
   "cell_type": "code",
   "execution_count": 87,
   "id": "b34fe243",
   "metadata": {},
   "outputs": [],
   "source": [
    "b=np.arange(1,25).reshape(2,4,3)"
   ]
  },
  {
   "cell_type": "code",
   "execution_count": 88,
   "id": "69d7d2a7",
   "metadata": {},
   "outputs": [
    {
     "data": {
      "text/plain": [
       "array([[[ 1,  2,  3],\n",
       "        [ 4,  5,  6],\n",
       "        [ 7,  8,  9],\n",
       "        [10, 11, 12]],\n",
       "\n",
       "       [[13, 14, 15],\n",
       "        [16, 17, 18],\n",
       "        [19, 20, 21],\n",
       "        [22, 23, 24]]])"
      ]
     },
     "execution_count": 88,
     "metadata": {},
     "output_type": "execute_result"
    }
   ],
   "source": [
    "b"
   ]
  },
  {
   "cell_type": "code",
   "execution_count": 89,
   "id": "e2d6fc45",
   "metadata": {},
   "outputs": [
    {
     "data": {
      "text/plain": [
       "3"
      ]
     },
     "execution_count": 89,
     "metadata": {},
     "output_type": "execute_result"
    }
   ],
   "source": [
    "b.ndim"
   ]
  },
  {
   "cell_type": "markdown",
   "id": "89132fd0",
   "metadata": {},
   "source": [
    "To convert into 1D use Ravel"
   ]
  },
  {
   "cell_type": "code",
   "execution_count": 90,
   "id": "d20bcf72",
   "metadata": {},
   "outputs": [
    {
     "data": {
      "text/plain": [
       "array([ 1,  2,  3,  4,  5,  6,  7,  8,  9, 10, 11, 12, 13, 14, 15, 16, 17,\n",
       "       18, 19, 20, 21, 22, 23, 24])"
      ]
     },
     "execution_count": 90,
     "metadata": {},
     "output_type": "execute_result"
    }
   ],
   "source": [
    "b.ravel()"
   ]
  },
  {
   "cell_type": "code",
   "execution_count": 91,
   "id": "7d4e8445",
   "metadata": {},
   "outputs": [
    {
     "data": {
      "text/plain": [
       "1"
      ]
     },
     "execution_count": 91,
     "metadata": {},
     "output_type": "execute_result"
    }
   ],
   "source": [
    "b.ravel().ndim"
   ]
  },
  {
   "cell_type": "code",
   "execution_count": 93,
   "id": "8b93ddde",
   "metadata": {},
   "outputs": [
    {
     "data": {
      "text/plain": [
       "array([ 1, 13,  4, 16,  7, 19, 10, 22,  2, 14,  5, 17,  8, 20, 11, 23,  3,\n",
       "       15,  6, 18,  9, 21, 12, 24])"
      ]
     },
     "execution_count": 93,
     "metadata": {},
     "output_type": "execute_result"
    }
   ],
   "source": [
    "b.flatten(order=\"F\")"
   ]
  },
  {
   "cell_type": "code",
   "execution_count": 97,
   "id": "2bbbe92e",
   "metadata": {},
   "outputs": [],
   "source": [
    "c=np.arange(1,17).reshape(4,4)"
   ]
  },
  {
   "cell_type": "code",
   "execution_count": 98,
   "id": "3873c766",
   "metadata": {},
   "outputs": [
    {
     "data": {
      "text/plain": [
       "array([[ 1,  2,  3,  4],\n",
       "       [ 5,  6,  7,  8],\n",
       "       [ 9, 10, 11, 12],\n",
       "       [13, 14, 15, 16]])"
      ]
     },
     "execution_count": 98,
     "metadata": {},
     "output_type": "execute_result"
    }
   ],
   "source": [
    "c"
   ]
  },
  {
   "cell_type": "code",
   "execution_count": 99,
   "id": "943a4f5c",
   "metadata": {},
   "outputs": [
    {
     "data": {
      "text/plain": [
       "2"
      ]
     },
     "execution_count": 99,
     "metadata": {},
     "output_type": "execute_result"
    }
   ],
   "source": [
    "c.ndim"
   ]
  },
  {
   "cell_type": "code",
   "execution_count": 104,
   "id": "e96d61f3",
   "metadata": {},
   "outputs": [
    {
     "data": {
      "text/plain": [
       "array([[ 1,  5,  9, 13],\n",
       "       [ 2,  6, 10, 14],\n",
       "       [ 3,  7, 11, 15],\n",
       "       [ 4,  8, 12, 16]])"
      ]
     },
     "execution_count": 104,
     "metadata": {},
     "output_type": "execute_result"
    }
   ],
   "source": [
    "c.transpose()"
   ]
  },
  {
   "cell_type": "code",
   "execution_count": 105,
   "id": "527b5865",
   "metadata": {},
   "outputs": [
    {
     "data": {
      "text/plain": [
       "array([[[ 1,  2,  3,  4],\n",
       "        [ 5,  6,  7,  8],\n",
       "        [ 9, 10, 11, 12]],\n",
       "\n",
       "       [[13, 14, 15, 16],\n",
       "        [17, 18, 19, 20],\n",
       "        [21, 22, 23, 24]]])"
      ]
     },
     "execution_count": 105,
     "metadata": {},
     "output_type": "execute_result"
    }
   ],
   "source": [
    "b"
   ]
  },
  {
   "cell_type": "code",
   "execution_count": 106,
   "id": "288f3599",
   "metadata": {},
   "outputs": [
    {
     "data": {
      "text/plain": [
       "array([[ 1,  2,  3,  4,  5,  6,  7,  8,  9, 10, 11, 12, 13, 14, 15, 16,\n",
       "        17, 18, 19, 20, 21, 22, 23, 24]])"
      ]
     },
     "execution_count": 106,
     "metadata": {},
     "output_type": "execute_result"
    }
   ],
   "source": [
    "b.reshape(1,-1)"
   ]
  },
  {
   "cell_type": "code",
   "execution_count": 107,
   "id": "bfe4b7a8",
   "metadata": {},
   "outputs": [
    {
     "data": {
      "text/plain": [
       "array([[ 1],\n",
       "       [ 2],\n",
       "       [ 3],\n",
       "       [ 4],\n",
       "       [ 5],\n",
       "       [ 6],\n",
       "       [ 7],\n",
       "       [ 8],\n",
       "       [ 9],\n",
       "       [10],\n",
       "       [11],\n",
       "       [12],\n",
       "       [13],\n",
       "       [14],\n",
       "       [15],\n",
       "       [16],\n",
       "       [17],\n",
       "       [18],\n",
       "       [19],\n",
       "       [20],\n",
       "       [21],\n",
       "       [22],\n",
       "       [23],\n",
       "       [24]])"
      ]
     },
     "execution_count": 107,
     "metadata": {},
     "output_type": "execute_result"
    }
   ],
   "source": [
    "b.reshape(-1,1)"
   ]
  },
  {
   "cell_type": "code",
   "execution_count": 108,
   "id": "48543976",
   "metadata": {},
   "outputs": [],
   "source": [
    "d=np.arange(1,10).reshape(3,3)"
   ]
  },
  {
   "cell_type": "code",
   "execution_count": 109,
   "id": "880ca24e",
   "metadata": {},
   "outputs": [
    {
     "data": {
      "text/plain": [
       "array([[1, 2, 3],\n",
       "       [4, 5, 6],\n",
       "       [7, 8, 9]])"
      ]
     },
     "execution_count": 109,
     "metadata": {},
     "output_type": "execute_result"
    }
   ],
   "source": [
    "d"
   ]
  },
  {
   "cell_type": "code",
   "execution_count": 110,
   "id": "c5ea7dd5",
   "metadata": {},
   "outputs": [],
   "source": [
    "f=np.arange(1,10).reshape(3,3)"
   ]
  },
  {
   "cell_type": "code",
   "execution_count": 111,
   "id": "f9403cc0",
   "metadata": {},
   "outputs": [
    {
     "data": {
      "text/plain": [
       "array([[1, 2, 3],\n",
       "       [4, 5, 6],\n",
       "       [7, 8, 9]])"
      ]
     },
     "execution_count": 111,
     "metadata": {},
     "output_type": "execute_result"
    }
   ],
   "source": [
    "f"
   ]
  },
  {
   "cell_type": "code",
   "execution_count": 112,
   "id": "17a598c8",
   "metadata": {},
   "outputs": [
    {
     "data": {
      "text/plain": [
       "array([[ 2,  4,  6],\n",
       "       [ 8, 10, 12],\n",
       "       [14, 16, 18]])"
      ]
     },
     "execution_count": 112,
     "metadata": {},
     "output_type": "execute_result"
    }
   ],
   "source": [
    "np.add(d,f)"
   ]
  },
  {
   "cell_type": "code",
   "execution_count": 113,
   "id": "c7d65560",
   "metadata": {},
   "outputs": [
    {
     "data": {
      "text/plain": [
       "array([[0, 0, 0],\n",
       "       [0, 0, 0],\n",
       "       [0, 0, 0]])"
      ]
     },
     "execution_count": 113,
     "metadata": {},
     "output_type": "execute_result"
    }
   ],
   "source": [
    "np.subtract(d,f)"
   ]
  },
  {
   "cell_type": "code",
   "execution_count": 114,
   "id": "00b59a38",
   "metadata": {},
   "outputs": [
    {
     "data": {
      "text/plain": [
       "array([[1., 1., 1.],\n",
       "       [1., 1., 1.],\n",
       "       [1., 1., 1.]])"
      ]
     },
     "execution_count": 114,
     "metadata": {},
     "output_type": "execute_result"
    }
   ],
   "source": [
    "np.divide(d,f)"
   ]
  },
  {
   "cell_type": "code",
   "execution_count": 115,
   "id": "cf58f52a",
   "metadata": {},
   "outputs": [
    {
     "data": {
      "text/plain": [
       "array([[ 1,  2,  3,  4],\n",
       "       [ 5,  6,  7,  8],\n",
       "       [ 9, 10, 11, 12],\n",
       "       [13, 14, 15, 16]])"
      ]
     },
     "execution_count": 115,
     "metadata": {},
     "output_type": "execute_result"
    }
   ],
   "source": [
    "a"
   ]
  },
  {
   "cell_type": "code",
   "execution_count": 116,
   "id": "f8275492",
   "metadata": {},
   "outputs": [
    {
     "data": {
      "text/plain": [
       "1"
      ]
     },
     "execution_count": 116,
     "metadata": {},
     "output_type": "execute_result"
    }
   ],
   "source": [
    "a.min()"
   ]
  },
  {
   "cell_type": "code",
   "execution_count": 117,
   "id": "ba54bd76",
   "metadata": {},
   "outputs": [
    {
     "data": {
      "text/plain": [
       "16"
      ]
     },
     "execution_count": 117,
     "metadata": {},
     "output_type": "execute_result"
    }
   ],
   "source": [
    "a.max()"
   ]
  },
  {
   "cell_type": "raw",
   "id": "6c955d8a",
   "metadata": {},
   "source": [
    "row wise  axis value takes=0\n",
    "column wise  axis value takes=1"
   ]
  },
  {
   "cell_type": "code",
   "execution_count": 127,
   "id": "2fd9e698",
   "metadata": {},
   "outputs": [
    {
     "data": {
      "text/plain": [
       "array([[ 1,  2,  3,  4],\n",
       "       [ 5,  6,  7,  8],\n",
       "       [ 9, 10, 11, 12],\n",
       "       [13, 14, 15, 16]])"
      ]
     },
     "execution_count": 127,
     "metadata": {},
     "output_type": "execute_result"
    }
   ],
   "source": [
    "a"
   ]
  },
  {
   "cell_type": "code",
   "execution_count": 128,
   "id": "381efd64",
   "metadata": {},
   "outputs": [
    {
     "data": {
      "text/plain": [
       "array([ 1,  5,  9, 13])"
      ]
     },
     "execution_count": 128,
     "metadata": {},
     "output_type": "execute_result"
    }
   ],
   "source": [
    "a.min(axis=1)"
   ]
  },
  {
   "cell_type": "code",
   "execution_count": 129,
   "id": "611de4fb",
   "metadata": {},
   "outputs": [
    {
     "data": {
      "text/plain": [
       "array([ 4,  8, 12, 16])"
      ]
     },
     "execution_count": 129,
     "metadata": {},
     "output_type": "execute_result"
    }
   ],
   "source": [
    "a.max(axis=1)"
   ]
  },
  {
   "cell_type": "code",
   "execution_count": 130,
   "id": "7f0e50fd",
   "metadata": {},
   "outputs": [
    {
     "data": {
      "text/plain": [
       "array([1, 2, 3, 4])"
      ]
     },
     "execution_count": 130,
     "metadata": {},
     "output_type": "execute_result"
    }
   ],
   "source": [
    "a.min(axis=0)"
   ]
  },
  {
   "cell_type": "code",
   "execution_count": 131,
   "id": "4a05f025",
   "metadata": {},
   "outputs": [
    {
     "data": {
      "text/plain": [
       "array([13, 14, 15, 16])"
      ]
     },
     "execution_count": 131,
     "metadata": {},
     "output_type": "execute_result"
    }
   ],
   "source": [
    "a.max(axis=0)"
   ]
  },
  {
   "cell_type": "code",
   "execution_count": 132,
   "id": "3823d8a7",
   "metadata": {},
   "outputs": [
    {
     "data": {
      "text/plain": [
       "15"
      ]
     },
     "execution_count": 132,
     "metadata": {},
     "output_type": "execute_result"
    }
   ],
   "source": [
    "a.argmax()"
   ]
  },
  {
   "cell_type": "code",
   "execution_count": 133,
   "id": "96b3d70c",
   "metadata": {},
   "outputs": [
    {
     "data": {
      "text/plain": [
       "0"
      ]
     },
     "execution_count": 133,
     "metadata": {},
     "output_type": "execute_result"
    }
   ],
   "source": [
    "a.argmin()"
   ]
  },
  {
   "cell_type": "code",
   "execution_count": 134,
   "id": "1c4db414",
   "metadata": {},
   "outputs": [
    {
     "data": {
      "text/plain": [
       "array([3, 3, 3, 3], dtype=int64)"
      ]
     },
     "execution_count": 134,
     "metadata": {},
     "output_type": "execute_result"
    }
   ],
   "source": [
    "a.argmax(axis=1)"
   ]
  },
  {
   "cell_type": "code",
   "execution_count": 125,
   "id": "bd63d54b",
   "metadata": {},
   "outputs": [
    {
     "data": {
      "text/plain": [
       "array([0, 0, 0, 0], dtype=int64)"
      ]
     },
     "execution_count": 125,
     "metadata": {},
     "output_type": "execute_result"
    }
   ],
   "source": [
    "a.argmin(axis=0)"
   ]
  },
  {
   "cell_type": "code",
   "execution_count": 126,
   "id": "c8295bb0",
   "metadata": {},
   "outputs": [
    {
     "data": {
      "text/plain": [
       "array([10, 26, 42, 58])"
      ]
     },
     "execution_count": 126,
     "metadata": {},
     "output_type": "execute_result"
    }
   ],
   "source": [
    "np.sum(a,axis=1)"
   ]
  },
  {
   "cell_type": "code",
   "execution_count": 135,
   "id": "4a96d2d3",
   "metadata": {},
   "outputs": [
    {
     "data": {
      "text/plain": [
       "array([28, 32, 36, 40])"
      ]
     },
     "execution_count": 135,
     "metadata": {},
     "output_type": "execute_result"
    }
   ],
   "source": [
    "np.sum(a,axis=0)"
   ]
  },
  {
   "cell_type": "code",
   "execution_count": 136,
   "id": "7921df77",
   "metadata": {},
   "outputs": [
    {
     "data": {
      "text/plain": [
       "34"
      ]
     },
     "execution_count": 136,
     "metadata": {},
     "output_type": "execute_result"
    }
   ],
   "source": [
    "np.trace(a)"
   ]
  },
  {
   "cell_type": "code",
   "execution_count": 137,
   "id": "82d3e523",
   "metadata": {},
   "outputs": [
    {
     "data": {
      "text/plain": [
       "8.5"
      ]
     },
     "execution_count": 137,
     "metadata": {},
     "output_type": "execute_result"
    }
   ],
   "source": [
    "np.mean(a)"
   ]
  },
  {
   "cell_type": "code",
   "execution_count": 138,
   "id": "0a4cd340",
   "metadata": {},
   "outputs": [
    {
     "data": {
      "text/plain": [
       "4.6097722286464435"
      ]
     },
     "execution_count": 138,
     "metadata": {},
     "output_type": "execute_result"
    }
   ],
   "source": [
    "np.std(a)"
   ]
  },
  {
   "cell_type": "code",
   "execution_count": 139,
   "id": "ceb517bb",
   "metadata": {},
   "outputs": [
    {
     "data": {
      "text/plain": [
       "21.25"
      ]
     },
     "execution_count": 139,
     "metadata": {},
     "output_type": "execute_result"
    }
   ],
   "source": [
    "np.var(a)"
   ]
  },
  {
   "cell_type": "code",
   "execution_count": 140,
   "id": "42bd58c2",
   "metadata": {},
   "outputs": [
    {
     "data": {
      "text/plain": [
       "array([[1.        , 1.41421356, 1.73205081, 2.        ],\n",
       "       [2.23606798, 2.44948974, 2.64575131, 2.82842712],\n",
       "       [3.        , 3.16227766, 3.31662479, 3.46410162],\n",
       "       [3.60555128, 3.74165739, 3.87298335, 4.        ]])"
      ]
     },
     "execution_count": 140,
     "metadata": {},
     "output_type": "execute_result"
    }
   ],
   "source": [
    "np.sqrt(a)"
   ]
  },
  {
   "cell_type": "code",
   "execution_count": 145,
   "id": "7870029e",
   "metadata": {},
   "outputs": [],
   "source": [
    "r=np.arange(1,101).reshape(10,10)"
   ]
  },
  {
   "cell_type": "code",
   "execution_count": 146,
   "id": "9c9e9181",
   "metadata": {},
   "outputs": [
    {
     "data": {
      "text/plain": [
       "array([[  1,   2,   3,   4,   5,   6,   7,   8,   9,  10],\n",
       "       [ 11,  12,  13,  14,  15,  16,  17,  18,  19,  20],\n",
       "       [ 21,  22,  23,  24,  25,  26,  27,  28,  29,  30],\n",
       "       [ 31,  32,  33,  34,  35,  36,  37,  38,  39,  40],\n",
       "       [ 41,  42,  43,  44,  45,  46,  47,  48,  49,  50],\n",
       "       [ 51,  52,  53,  54,  55,  56,  57,  58,  59,  60],\n",
       "       [ 61,  62,  63,  64,  65,  66,  67,  68,  69,  70],\n",
       "       [ 71,  72,  73,  74,  75,  76,  77,  78,  79,  80],\n",
       "       [ 81,  82,  83,  84,  85,  86,  87,  88,  89,  90],\n",
       "       [ 91,  92,  93,  94,  95,  96,  97,  98,  99, 100]])"
      ]
     },
     "execution_count": 146,
     "metadata": {},
     "output_type": "execute_result"
    }
   ],
   "source": [
    "r"
   ]
  },
  {
   "cell_type": "code",
   "execution_count": 154,
   "id": "98aab7fb",
   "metadata": {},
   "outputs": [
    {
     "data": {
      "text/plain": [
       "array([41, 42, 43, 44, 45, 46, 47, 48, 49, 50])"
      ]
     },
     "execution_count": 154,
     "metadata": {},
     "output_type": "execute_result"
    }
   ],
   "source": [
    "r[4]"
   ]
  },
  {
   "cell_type": "code",
   "execution_count": 155,
   "id": "06f39584",
   "metadata": {},
   "outputs": [
    {
     "data": {
      "text/plain": [
       "array([[ 41,  42,  43,  44,  45,  46,  47,  48,  49,  50],\n",
       "       [ 51,  52,  53,  54,  55,  56,  57,  58,  59,  60],\n",
       "       [ 61,  62,  63,  64,  65,  66,  67,  68,  69,  70],\n",
       "       [ 71,  72,  73,  74,  75,  76,  77,  78,  79,  80],\n",
       "       [ 81,  82,  83,  84,  85,  86,  87,  88,  89,  90],\n",
       "       [ 91,  92,  93,  94,  95,  96,  97,  98,  99, 100]])"
      ]
     },
     "execution_count": 155,
     "metadata": {},
     "output_type": "execute_result"
    }
   ],
   "source": [
    "r[4:]"
   ]
  },
  {
   "cell_type": "code",
   "execution_count": 157,
   "id": "b74f566f",
   "metadata": {},
   "outputs": [
    {
     "data": {
      "text/plain": [
       "array([[ 1,  2,  3,  4,  5,  6,  7,  8,  9, 10],\n",
       "       [11, 12, 13, 14, 15, 16, 17, 18, 19, 20],\n",
       "       [21, 22, 23, 24, 25, 26, 27, 28, 29, 30],\n",
       "       [31, 32, 33, 34, 35, 36, 37, 38, 39, 40]])"
      ]
     },
     "execution_count": 157,
     "metadata": {},
     "output_type": "execute_result"
    }
   ],
   "source": [
    "r[:4]"
   ]
  },
  {
   "cell_type": "code",
   "execution_count": 159,
   "id": "23ffdcd6",
   "metadata": {},
   "outputs": [
    {
     "data": {
      "text/plain": [
       "array([[41, 42, 43, 44, 45, 46, 47, 48, 49, 50],\n",
       "       [51, 52, 53, 54, 55, 56, 57, 58, 59, 60],\n",
       "       [61, 62, 63, 64, 65, 66, 67, 68, 69, 70]])"
      ]
     },
     "execution_count": 159,
     "metadata": {},
     "output_type": "execute_result"
    }
   ],
   "source": [
    "r[4:7]"
   ]
  },
  {
   "cell_type": "code",
   "execution_count": 160,
   "id": "17c370f1",
   "metadata": {},
   "outputs": [
    {
     "data": {
      "text/plain": [
       "array([[21, 22, 23, 24, 25, 26, 27, 28, 29, 30],\n",
       "       [41, 42, 43, 44, 45, 46, 47, 48, 49, 50],\n",
       "       [61, 62, 63, 64, 65, 66, 67, 68, 69, 70],\n",
       "       [81, 82, 83, 84, 85, 86, 87, 88, 89, 90]])"
      ]
     },
     "execution_count": 160,
     "metadata": {},
     "output_type": "execute_result"
    }
   ],
   "source": [
    "r[2:9:2]"
   ]
  },
  {
   "cell_type": "code",
   "execution_count": 162,
   "id": "7e0c680f",
   "metadata": {},
   "outputs": [
    {
     "data": {
      "text/plain": [
       "array([[23, 24, 25, 26, 27, 28],\n",
       "       [33, 34, 35, 36, 37, 38]])"
      ]
     },
     "execution_count": 162,
     "metadata": {},
     "output_type": "execute_result"
    }
   ],
   "source": [
    "r[2:4,2:8]"
   ]
  },
  {
   "cell_type": "markdown",
   "id": "c1376b08",
   "metadata": {},
   "source": [
    "# Numpy lec 3"
   ]
  },
  {
   "cell_type": "code",
   "execution_count": 163,
   "id": "adcb8ea1",
   "metadata": {},
   "outputs": [
    {
     "data": {
      "text/plain": [
       "array([[  4,   6,   8,  10],\n",
       "       [ 14,  16,  18,  20],\n",
       "       [ 24,  26,  28,  30],\n",
       "       [ 34,  36,  38,  40],\n",
       "       [ 44,  46,  48,  50],\n",
       "       [ 54,  56,  58,  60],\n",
       "       [ 64,  66,  68,  70],\n",
       "       [ 74,  76,  78,  80],\n",
       "       [ 84,  86,  88,  90],\n",
       "       [ 94,  96,  98, 100]])"
      ]
     },
     "execution_count": 163,
     "metadata": {},
     "output_type": "execute_result"
    }
   ],
   "source": [
    "r[:,3:10:2]"
   ]
  },
  {
   "cell_type": "code",
   "execution_count": 164,
   "id": "97f7bbb6",
   "metadata": {},
   "outputs": [],
   "source": [
    "Y=np.arange(1,10).reshape(3,3)"
   ]
  },
  {
   "cell_type": "code",
   "execution_count": 165,
   "id": "5f687cfe",
   "metadata": {},
   "outputs": [
    {
     "data": {
      "text/plain": [
       "array([[1, 2, 3],\n",
       "       [4, 5, 6],\n",
       "       [7, 8, 9]])"
      ]
     },
     "execution_count": 165,
     "metadata": {},
     "output_type": "execute_result"
    }
   ],
   "source": [
    "Y"
   ]
  },
  {
   "cell_type": "code",
   "execution_count": 166,
   "id": "6bc8223e",
   "metadata": {},
   "outputs": [],
   "source": [
    "Y1=np.arange(1,10).reshape(3,3)"
   ]
  },
  {
   "cell_type": "code",
   "execution_count": 167,
   "id": "c99a1ff5",
   "metadata": {},
   "outputs": [
    {
     "data": {
      "text/plain": [
       "array([[1, 2, 3],\n",
       "       [4, 5, 6],\n",
       "       [7, 8, 9]])"
      ]
     },
     "execution_count": 167,
     "metadata": {},
     "output_type": "execute_result"
    }
   ],
   "source": [
    "Y1"
   ]
  },
  {
   "cell_type": "code",
   "execution_count": 168,
   "id": "d563b939",
   "metadata": {},
   "outputs": [
    {
     "data": {
      "text/plain": [
       "array([[ 30,  36,  42],\n",
       "       [ 66,  81,  96],\n",
       "       [102, 126, 150]])"
      ]
     },
     "execution_count": 168,
     "metadata": {},
     "output_type": "execute_result"
    }
   ],
   "source": [
    "np.dot(Y,Y1)"
   ]
  },
  {
   "cell_type": "code",
   "execution_count": 170,
   "id": "ffc8c8b6",
   "metadata": {},
   "outputs": [],
   "source": [
    "a=np.arange(1,17).reshape(4,4)\n",
    "b=np.arange(17,33).reshape(4,4)"
   ]
  },
  {
   "cell_type": "code",
   "execution_count": 171,
   "id": "2f554121",
   "metadata": {},
   "outputs": [
    {
     "data": {
      "text/plain": [
       "array([[ 1,  2,  3,  4],\n",
       "       [ 5,  6,  7,  8],\n",
       "       [ 9, 10, 11, 12],\n",
       "       [13, 14, 15, 16]])"
      ]
     },
     "execution_count": 171,
     "metadata": {},
     "output_type": "execute_result"
    }
   ],
   "source": [
    "a"
   ]
  },
  {
   "cell_type": "code",
   "execution_count": 172,
   "id": "01306bab",
   "metadata": {},
   "outputs": [
    {
     "data": {
      "text/plain": [
       "array([[17, 18, 19, 20],\n",
       "       [21, 22, 23, 24],\n",
       "       [25, 26, 27, 28],\n",
       "       [29, 30, 31, 32]])"
      ]
     },
     "execution_count": 172,
     "metadata": {},
     "output_type": "execute_result"
    }
   ],
   "source": [
    "b"
   ]
  },
  {
   "cell_type": "code",
   "execution_count": 174,
   "id": "c1f0904a",
   "metadata": {},
   "outputs": [
    {
     "data": {
      "text/plain": [
       "array([[ 1,  2,  3,  4],\n",
       "       [ 5,  6,  7,  8],\n",
       "       [ 9, 10, 11, 12],\n",
       "       [13, 14, 15, 16],\n",
       "       [17, 18, 19, 20],\n",
       "       [21, 22, 23, 24],\n",
       "       [25, 26, 27, 28],\n",
       "       [29, 30, 31, 32]])"
      ]
     },
     "execution_count": 174,
     "metadata": {},
     "output_type": "execute_result"
    }
   ],
   "source": [
    "np.concatenate((a,b))"
   ]
  },
  {
   "cell_type": "code",
   "execution_count": 175,
   "id": "369573fc",
   "metadata": {},
   "outputs": [
    {
     "data": {
      "text/plain": [
       "array([[ 1,  2,  3,  4, 17, 18, 19, 20],\n",
       "       [ 5,  6,  7,  8, 21, 22, 23, 24],\n",
       "       [ 9, 10, 11, 12, 25, 26, 27, 28],\n",
       "       [13, 14, 15, 16, 29, 30, 31, 32]])"
      ]
     },
     "execution_count": 175,
     "metadata": {},
     "output_type": "execute_result"
    }
   ],
   "source": [
    "np.concatenate((a,b),axis=1)"
   ]
  },
  {
   "cell_type": "code",
   "execution_count": 177,
   "id": "2d6f1e64",
   "metadata": {},
   "outputs": [
    {
     "data": {
      "text/plain": [
       "array([[ 1,  2,  3,  4, 17, 18, 19, 20],\n",
       "       [ 5,  6,  7,  8, 21, 22, 23, 24],\n",
       "       [ 9, 10, 11, 12, 25, 26, 27, 28],\n",
       "       [13, 14, 15, 16, 29, 30, 31, 32]])"
      ]
     },
     "execution_count": 177,
     "metadata": {},
     "output_type": "execute_result"
    }
   ],
   "source": [
    "np.hstack((a,b))"
   ]
  },
  {
   "cell_type": "code",
   "execution_count": 178,
   "id": "c6165b76",
   "metadata": {},
   "outputs": [
    {
     "data": {
      "text/plain": [
       "array([[ 1,  2,  3,  4],\n",
       "       [ 5,  6,  7,  8],\n",
       "       [ 9, 10, 11, 12],\n",
       "       [13, 14, 15, 16],\n",
       "       [17, 18, 19, 20],\n",
       "       [21, 22, 23, 24],\n",
       "       [25, 26, 27, 28],\n",
       "       [29, 30, 31, 32]])"
      ]
     },
     "execution_count": 178,
     "metadata": {},
     "output_type": "execute_result"
    }
   ],
   "source": [
    "np.vstack((a,b))"
   ]
  },
  {
   "cell_type": "code",
   "execution_count": 179,
   "id": "34afbd82",
   "metadata": {},
   "outputs": [
    {
     "data": {
      "text/plain": [
       "array([[ 1,  2,  3,  4],\n",
       "       [ 5,  6,  7,  8],\n",
       "       [ 9, 10, 11, 12],\n",
       "       [13, 14, 15, 16]])"
      ]
     },
     "execution_count": 179,
     "metadata": {},
     "output_type": "execute_result"
    }
   ],
   "source": [
    "a"
   ]
  },
  {
   "cell_type": "code",
   "execution_count": 180,
   "id": "3ffa7fee",
   "metadata": {},
   "outputs": [
    {
     "data": {
      "text/plain": [
       "[array([[1, 2, 3, 4],\n",
       "        [5, 6, 7, 8]]),\n",
       " array([[ 9, 10, 11, 12],\n",
       "        [13, 14, 15, 16]])]"
      ]
     },
     "execution_count": 180,
     "metadata": {},
     "output_type": "execute_result"
    }
   ],
   "source": [
    "np.split(a,2)"
   ]
  },
  {
   "cell_type": "code",
   "execution_count": 181,
   "id": "4c67d10f",
   "metadata": {},
   "outputs": [
    {
     "data": {
      "text/plain": [
       "[array([[1, 2, 3, 4]]),\n",
       " array([[5, 6, 7, 8]]),\n",
       " array([[ 9, 10, 11, 12]]),\n",
       " array([[13, 14, 15, 16]])]"
      ]
     },
     "execution_count": 181,
     "metadata": {},
     "output_type": "execute_result"
    }
   ],
   "source": [
    "np.split(a,4)"
   ]
  },
  {
   "cell_type": "code",
   "execution_count": 182,
   "id": "193210d4",
   "metadata": {},
   "outputs": [
    {
     "data": {
      "text/plain": [
       "[array([[ 1],\n",
       "        [ 5],\n",
       "        [ 9],\n",
       "        [13]]),\n",
       " array([[ 2],\n",
       "        [ 6],\n",
       "        [10],\n",
       "        [14]]),\n",
       " array([[ 3],\n",
       "        [ 7],\n",
       "        [11],\n",
       "        [15]]),\n",
       " array([[ 4],\n",
       "        [ 8],\n",
       "        [12],\n",
       "        [16]])]"
      ]
     },
     "execution_count": 182,
     "metadata": {},
     "output_type": "execute_result"
    }
   ],
   "source": [
    "np.split(a,4,axis=1)"
   ]
  },
  {
   "cell_type": "code",
   "execution_count": 184,
   "id": "af58c52a",
   "metadata": {},
   "outputs": [],
   "source": [
    "s=np.split(a,2,axis=1)"
   ]
  },
  {
   "cell_type": "code",
   "execution_count": 185,
   "id": "b35961fd",
   "metadata": {},
   "outputs": [
    {
     "data": {
      "text/plain": [
       "[array([[ 1,  2],\n",
       "        [ 5,  6],\n",
       "        [ 9, 10],\n",
       "        [13, 14]]),\n",
       " array([[ 3,  4],\n",
       "        [ 7,  8],\n",
       "        [11, 12],\n",
       "        [15, 16]])]"
      ]
     },
     "execution_count": 185,
     "metadata": {},
     "output_type": "execute_result"
    }
   ],
   "source": [
    "s"
   ]
  },
  {
   "cell_type": "code",
   "execution_count": 186,
   "id": "03d3d67a",
   "metadata": {},
   "outputs": [
    {
     "data": {
      "text/plain": [
       "list"
      ]
     },
     "execution_count": 186,
     "metadata": {},
     "output_type": "execute_result"
    }
   ],
   "source": [
    "type(s)"
   ]
  },
  {
   "cell_type": "code",
   "execution_count": 187,
   "id": "83f83b3a",
   "metadata": {},
   "outputs": [
    {
     "data": {
      "text/plain": [
       "array([[ 1,  2],\n",
       "       [ 5,  6],\n",
       "       [ 9, 10],\n",
       "       [13, 14]])"
      ]
     },
     "execution_count": 187,
     "metadata": {},
     "output_type": "execute_result"
    }
   ],
   "source": [
    "s[0]"
   ]
  },
  {
   "cell_type": "code",
   "execution_count": 191,
   "id": "0bb7b0d1",
   "metadata": {},
   "outputs": [],
   "source": [
    "a=np.array([11,22,33,44,55,66,77,88,99])"
   ]
  },
  {
   "cell_type": "code",
   "execution_count": 192,
   "id": "64186d96",
   "metadata": {},
   "outputs": [
    {
     "data": {
      "text/plain": [
       "array([11, 22, 33, 44, 55, 66, 77, 88, 99])"
      ]
     },
     "execution_count": 192,
     "metadata": {},
     "output_type": "execute_result"
    }
   ],
   "source": [
    "a"
   ]
  },
  {
   "cell_type": "code",
   "execution_count": 193,
   "id": "cc95bbe5",
   "metadata": {},
   "outputs": [
    {
     "data": {
      "text/plain": [
       "[array([11, 22]), array([33, 44, 55, 66, 77, 88, 99])]"
      ]
     },
     "execution_count": 193,
     "metadata": {},
     "output_type": "execute_result"
    }
   ],
   "source": [
    "np.split(a,[2])"
   ]
  },
  {
   "cell_type": "code",
   "execution_count": 196,
   "id": "a6f57ba4",
   "metadata": {},
   "outputs": [
    {
     "data": {
      "text/plain": [
       "[array([11, 22]), array([33, 44, 55]), array([66, 77, 88, 99])]"
      ]
     },
     "execution_count": 196,
     "metadata": {},
     "output_type": "execute_result"
    }
   ],
   "source": [
    "np.split(a,[2,5])"
   ]
  },
  {
   "cell_type": "code",
   "execution_count": 197,
   "id": "2e1cbbf9",
   "metadata": {},
   "outputs": [],
   "source": [
    "from random import*"
   ]
  },
  {
   "cell_type": "code",
   "execution_count": 207,
   "id": "b85af67b",
   "metadata": {},
   "outputs": [],
   "source": [
    "g=np.random.random()"
   ]
  },
  {
   "cell_type": "code",
   "execution_count": 208,
   "id": "7b2a28a6",
   "metadata": {},
   "outputs": [
    {
     "data": {
      "text/plain": [
       "0.1404419655059166"
      ]
     },
     "execution_count": 208,
     "metadata": {},
     "output_type": "execute_result"
    }
   ],
   "source": [
    "g"
   ]
  },
  {
   "cell_type": "code",
   "execution_count": 209,
   "id": "6c953ca2",
   "metadata": {},
   "outputs": [],
   "source": [
    "h=np.random.random((2,3))"
   ]
  },
  {
   "cell_type": "code",
   "execution_count": 210,
   "id": "713d980c",
   "metadata": {},
   "outputs": [
    {
     "data": {
      "text/plain": [
       "array([[0.9709597 , 0.02660688, 0.59154477],\n",
       "       [0.04052073, 0.99250013, 0.23047645]])"
      ]
     },
     "execution_count": 210,
     "metadata": {},
     "output_type": "execute_result"
    }
   ],
   "source": [
    "h"
   ]
  },
  {
   "cell_type": "code",
   "execution_count": 211,
   "id": "8e7b5d79",
   "metadata": {},
   "outputs": [
    {
     "data": {
      "text/plain": [
       "numpy.ndarray"
      ]
     },
     "execution_count": 211,
     "metadata": {},
     "output_type": "execute_result"
    }
   ],
   "source": [
    "type(h)"
   ]
  },
  {
   "cell_type": "code",
   "execution_count": 206,
   "id": "9c56812f",
   "metadata": {},
   "outputs": [
    {
     "data": {
      "text/plain": [
       "array([0.14319546, 0.20527528, 0.61083856, 0.61789045, 0.76512751])"
      ]
     },
     "execution_count": 206,
     "metadata": {},
     "output_type": "execute_result"
    }
   ],
   "source": [
    "np.random.random(5)"
   ]
  },
  {
   "cell_type": "code",
   "execution_count": 213,
   "id": "a28bbae2",
   "metadata": {},
   "outputs": [
    {
     "data": {
      "text/plain": [
       "array([[[0.58837939, 0.45989432, 0.66296817, 0.51669186],\n",
       "        [0.50777263, 0.94292385, 0.45565126, 0.33510993],\n",
       "        [0.69551928, 0.05049404, 0.64165877, 0.45243105]],\n",
       "\n",
       "       [[0.33343768, 0.44934859, 0.08455358, 0.31485726],\n",
       "        [0.50405818, 0.49632725, 0.47104064, 0.14268553],\n",
       "        [0.38871161, 0.46065546, 0.19555815, 0.87494286]]])"
      ]
     },
     "execution_count": 213,
     "metadata": {},
     "output_type": "execute_result"
    }
   ],
   "source": [
    "np.random.random((2,3,4))"
   ]
  },
  {
   "cell_type": "code",
   "execution_count": 219,
   "id": "34336eed",
   "metadata": {},
   "outputs": [
    {
     "data": {
      "text/plain": [
       "array([[44, 37, 23, 26],\n",
       "       [42, 15, 38, 28]])"
      ]
     },
     "execution_count": 219,
     "metadata": {},
     "output_type": "execute_result"
    }
   ],
   "source": [
    "np.random.randint(15,45,size=(2,4))"
   ]
  },
  {
   "cell_type": "code",
   "execution_count": 221,
   "id": "b62ee293",
   "metadata": {},
   "outputs": [
    {
     "data": {
      "text/plain": [
       "array([[ 7,  2,  9, 11],\n",
       "       [12,  5, 10,  1]])"
      ]
     },
     "execution_count": 221,
     "metadata": {},
     "output_type": "execute_result"
    }
   ],
   "source": [
    "np.random.randint(15,size=(2,4))"
   ]
  },
  {
   "cell_type": "code",
   "execution_count": 222,
   "id": "316065c5",
   "metadata": {},
   "outputs": [
    {
     "data": {
      "text/plain": [
       "66"
      ]
     },
     "execution_count": 222,
     "metadata": {},
     "output_type": "execute_result"
    }
   ],
   "source": [
    "np.random.choice(a)"
   ]
  },
  {
   "cell_type": "code",
   "execution_count": 223,
   "id": "a1b583af",
   "metadata": {},
   "outputs": [
    {
     "data": {
      "text/plain": [
       "array([77, 55, 22, 99, 88, 33, 11, 44, 66])"
      ]
     },
     "execution_count": 223,
     "metadata": {},
     "output_type": "execute_result"
    }
   ],
   "source": [
    "np.random.permutation(a)"
   ]
  },
  {
   "cell_type": "code",
   "execution_count": 224,
   "id": "c8705ba7",
   "metadata": {},
   "outputs": [
    {
     "data": {
      "text/plain": [
       "array([99.80969811, 45.85321023, 66.8438059 , 29.17889322, 75.39485894,\n",
       "       27.79486451, 60.06292437, 99.90213856, 35.42570522, 84.3074497 ,\n",
       "       54.79192303, 41.62641798, 70.27740743, 61.29966112, 19.85022762,\n",
       "       53.27832816, 32.65300709, 75.99220111, 66.6268595 , 41.11098346,\n",
       "       85.68323009, 80.96602233,  3.19841411, 16.39283988, 51.28135987,\n",
       "       21.05974887, 24.70021993, 74.2228825 , 26.58767484, 63.0803061 ,\n",
       "       45.47581042, 99.08588336, 61.26324756, 39.38718739, 95.73554353,\n",
       "       23.01875326, 69.52686599, 76.46801673, 54.88890854, 89.29459429,\n",
       "       84.87627263, 70.50470321, 84.61161827, 19.77751402, 35.30809449,\n",
       "       81.31884095, 67.57827578,  4.73184331, 66.70046764,  9.13132992,\n",
       "       47.43251119, 71.80482146, 67.81552823, 11.66798467, 13.90532763,\n",
       "       89.09271444, 63.19717284, 69.76154538, 85.62041117, 69.0639472 ,\n",
       "       31.54555042,  9.10951518, 46.9248676 , 67.1813421 , 49.75962243,\n",
       "       90.82696765,  2.66449351, 34.03952336, 89.49824046, 26.52791567,\n",
       "       66.02280666, 28.25400021, 50.29637266, 11.10410077, 21.79833045,\n",
       "       88.00002972, 26.39779164, 44.55089848, 29.13746243, 26.04036109,\n",
       "       62.14646152, 77.29554173, 26.59190601, 62.2800678 , 57.18545667,\n",
       "       66.44768934, 74.62329594, 11.89225063, 61.00137257, 42.65872821,\n",
       "       30.7143056 , 36.29523712, 24.40419135, 32.05194934, 92.32654161,\n",
       "       42.67643656, 85.89454981,  5.37563389, 92.40214808, 81.41383076,\n",
       "       43.66428282, 96.64861913, 75.4955918 , 76.71156645, 53.30179628,\n",
       "       96.17968017,  8.65029616, 19.85205312,  4.91668978,  5.08099697,\n",
       "       72.15794781, 16.74036835, 91.66437178, 85.6653065 , 83.81879524,\n",
       "       53.33900937, 33.48712082, 63.02950316,  2.86081992, 31.07056521,\n",
       "       72.93792855, 29.01058839, 58.70655482, 32.84762464, 53.80350523,\n",
       "       48.21364504, 91.13838438,  9.43045409,  6.7517921 ,  3.6365799 ,\n",
       "       70.91151526, 72.87349209, 14.49972286, 74.22330963,  8.25440458,\n",
       "       49.58074676, 76.75304437, 58.54793105, 29.28532848, 95.12791786,\n",
       "       56.79126693, 35.910915  , 57.13733711,  2.62371815,  6.92185305,\n",
       "       67.96851117, 80.83486004, 67.91477909, 78.88393221, 32.84059134,\n",
       "       49.80180647, 97.17911513, 69.6028163 , 71.37476799, 19.68796581,\n",
       "       70.49994072, 62.13839421,  8.7361602 , 92.9174871 ,  9.25020033,\n",
       "       65.10541935, 52.87491667, 98.78455701, 19.98242312, 70.12562154,\n",
       "        6.49640895, 84.31097761, 50.73502548, 62.53749871, 15.58358521,\n",
       "       24.86654548, 14.54000637, 26.85794242, 11.38156645,  4.70170969,\n",
       "       51.3885271 ,  7.32250057, 94.16979344, 88.4335241 , 64.80543572,\n",
       "       89.35706331, 21.62122276, 28.23558393, 46.57141666, 26.84797432,\n",
       "       60.2974304 , 39.63075941, 19.77983803, 71.95250325, 72.56133974,\n",
       "       68.66789368, 79.68968575, 18.44777754, 60.20974133, 60.84400466,\n",
       "        3.26938004, 39.21298946, 47.33461041, 75.96951455, 46.13731119,\n",
       "       55.71790222, 84.35016186, 36.38089981, 72.37964973, 62.61384479,\n",
       "        8.34823455, 21.22412865, 49.5834635 , 57.05866781, 20.56756322,\n",
       "       77.13241744, 43.96474582, 25.03891011, 47.58384327, 76.76523791,\n",
       "       98.45194091, 46.06043441, 14.73108637, 59.84518572, 35.14768677,\n",
       "       32.24058146, 46.24126903, 22.83302085, 92.30020675, 14.98773359,\n",
       "       66.485648  , 16.1994691 , 78.74527344, 72.33278065, 66.76425819,\n",
       "       91.28821549, 94.88198381, 56.69884113, 65.4747012 , 11.92991651,\n",
       "       12.18554271, 88.01553546, 47.66557643, 68.73005812, 66.25577918,\n",
       "       76.1935251 , 98.05373036, 40.2202647 , 40.11529418, 93.02858933,\n",
       "       82.2353673 , 47.79312002, 15.56253046, 37.18386141, 57.8420686 ])"
      ]
     },
     "execution_count": 224,
     "metadata": {},
     "output_type": "execute_result"
    }
   ],
   "source": [
    "np.random.uniform(1,100,250)"
   ]
  },
  {
   "cell_type": "code",
   "execution_count": 225,
   "id": "00a3d37a",
   "metadata": {},
   "outputs": [
    {
     "data": {
      "text/plain": [
       "-0.420939223563311"
      ]
     },
     "execution_count": 225,
     "metadata": {},
     "output_type": "execute_result"
    }
   ],
   "source": [
    "np.random.normal()"
   ]
  },
  {
   "cell_type": "code",
   "execution_count": 227,
   "id": "d2924e45",
   "metadata": {},
   "outputs": [],
   "source": [
    "s=\"python\"\n",
    "s1=\"data science\""
   ]
  },
  {
   "cell_type": "code",
   "execution_count": 228,
   "id": "5746d25b",
   "metadata": {},
   "outputs": [
    {
     "data": {
      "text/plain": [
       "array('pythondata science', dtype='<U18')"
      ]
     },
     "execution_count": 228,
     "metadata": {},
     "output_type": "execute_result"
    }
   ],
   "source": [
    "np.char.add(s,s1)"
   ]
  },
  {
   "cell_type": "code",
   "execution_count": 230,
   "id": "8997d762",
   "metadata": {},
   "outputs": [
    {
     "data": {
      "text/plain": [
       "array('PYTHON', dtype='<U6')"
      ]
     },
     "execution_count": 230,
     "metadata": {},
     "output_type": "execute_result"
    }
   ],
   "source": [
    "np.char.upper(s)"
   ]
  },
  {
   "cell_type": "code",
   "execution_count": 231,
   "id": "bdea4640",
   "metadata": {},
   "outputs": [
    {
     "data": {
      "text/plain": [
       "array('data science', dtype='<U12')"
      ]
     },
     "execution_count": 231,
     "metadata": {},
     "output_type": "execute_result"
    }
   ],
   "source": [
    "np.char.lower(s1)"
   ]
  },
  {
   "cell_type": "code",
   "execution_count": 238,
   "id": "0faa7e67",
   "metadata": {},
   "outputs": [
    {
     "data": {
      "text/plain": [
       "array(list(['data', 'science']), dtype=object)"
      ]
     },
     "execution_count": 238,
     "metadata": {},
     "output_type": "execute_result"
    }
   ],
   "source": [
    "np.char.split(s1)"
   ]
  },
  {
   "cell_type": "code",
   "execution_count": 240,
   "id": "7a6f2bf3",
   "metadata": {},
   "outputs": [
    {
     "data": {
      "text/plain": [
       "array('*******python*******', dtype='<U20')"
      ]
     },
     "execution_count": 240,
     "metadata": {},
     "output_type": "execute_result"
    }
   ],
   "source": [
    "np.char.center(s,20,\"*\")"
   ]
  },
  {
   "cell_type": "code",
   "execution_count": 242,
   "id": "5ea574f1",
   "metadata": {},
   "outputs": [
    {
     "data": {
      "text/plain": [
       "array('       python       ', dtype='<U20')"
      ]
     },
     "execution_count": 242,
     "metadata": {},
     "output_type": "execute_result"
    }
   ],
   "source": [
    "np.char.center(s,20,\" \")"
   ]
  }
 ],
 "metadata": {
  "kernelspec": {
   "display_name": "Python 3 (ipykernel)",
   "language": "python",
   "name": "python3"
  },
  "language_info": {
   "codemirror_mode": {
    "name": "ipython",
    "version": 3
   },
   "file_extension": ".py",
   "mimetype": "text/x-python",
   "name": "python",
   "nbconvert_exporter": "python",
   "pygments_lexer": "ipython3",
   "version": "3.9.12"
  }
 },
 "nbformat": 4,
 "nbformat_minor": 5
}
